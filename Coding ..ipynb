{
 "cells": [
  {
   "cell_type": "code",
   "execution_count": 7,
   "id": "5fd5c475",
   "metadata": {},
   "outputs": [
    {
     "name": "stdout",
     "output_type": "stream",
     "text": [
      "Expected Output:\n",
      " 1 2 3 4\n"
     ]
    }
   ],
   "source": [
    "#1.Write a Python program that prints numbers from 1 to 5.\n",
    "#Expected Output:\n",
    "#1 2 3 4 5\n",
    "number=''\n",
    "for i in range(1, 5, 1):\n",
    "    number = number +' ' + str(i)\n",
    "\n",
    "print('Expected Output:')\n",
    "print(number)\n",
    "      \n",
    "\n"
   ]
  },
  {
   "cell_type": "code",
   "execution_count": 11,
   "id": "3c8bc472",
   "metadata": {
    "jupyter": {
     "source_hidden": true
    }
   },
   "outputs": [
    {
     "name": "stdout",
     "output_type": "stream",
     "text": [
      "2 4 6 8 10 \n"
     ]
    }
   ],
   "source": [
    "#2.Write a Python program to print the first 5 even numbers. Expected Output:\n",
    "#2 4 6 8 10\n",
    "evenNos = ''\n",
    "j = 0\n",
    "for i in range(1, 12, 1):\n",
    "    if i%2 == 0:\n",
    "        evenNos= evenNos + str(i) + ' '\n",
    "        j = j +1\n",
    "        if j == 5:\n",
    "            print (evenNos)\n",
    "            break\n",
    "        \n",
    "        \n"
   ]
  },
  {
   "cell_type": "code",
   "execution_count": 15,
   "id": "5e7af211",
   "metadata": {},
   "outputs": [
    {
     "name": "stdout",
     "output_type": "stream",
     "text": [
      "55\n"
     ]
    }
   ],
   "source": [
    "#3.Write a Python program to print the sum of numbers from 1 to 10. \n",
    "#Expected Output:55\n",
    "sumNumbers = 0 \n",
    "for i in range(1, 11, 1):\n",
    "    sumNumbers =  sumNumbers + i\n",
    "print (sumNumbers)\n",
    "            \n",
    "\n"
   ]
  },
  {
   "cell_type": "code",
   "execution_count": 26,
   "id": "ac09aa1a",
   "metadata": {},
   "outputs": [
    {
     "name": "stdin",
     "output_type": "stream",
     "text": [
      "Enter a number to find its factorial value:  3\n"
     ]
    },
    {
     "name": "stdout",
     "output_type": "stream",
     "text": [
      "Output:6\n"
     ]
    }
   ],
   "source": [
    "#4.Write a Python function to find the factorial of 5. Expected Output:\n",
    "#120\n",
    "enteredNumber = int(input('Enter a number to find its factorial value: '))\n",
    "factorialValue = 1\n",
    "for i in range( enteredNumber,0, -1):\n",
    "    factorialValue = factorialValue * i\n",
    "    \n",
    "print ('Output:' + str(factorialValue))\n",
    "    \n"
   ]
  },
  {
   "cell_type": "code",
   "execution_count": 72,
   "id": "8ab9fc8a",
   "metadata": {},
   "outputs": [
    {
     "name": "stdin",
     "output_type": "stream",
     "text": [
      "Enter a number to find its print or not:  7\n"
     ]
    },
    {
     "name": "stdout",
     "output_type": "stream",
     "text": [
      "7is a prime\n"
     ]
    }
   ],
   "source": [
    "#5.Write a Python program to check if a number is prime. Expected Output (for input 7):\n",
    "#8 is a prime number\n",
    "\n",
    "enteredNumber = int(input('Enter a number to find its print or not: '))\n",
    "j = 0\n",
    "for i in range(2, enteredNumber , 1):\n",
    "    \n",
    "    if (enteredNumber%i == 0):\n",
    "        print(str(enteredNumber) + 'is not a prime')\n",
    "        break\n",
    "    else:\n",
    "        if (j != 1):\n",
    "            print(str(enteredNumber) + 'is a prime') \n",
    "            j= 1\n"
   ]
  },
  {
   "cell_type": "code",
   "execution_count": null,
   "id": "a5dadcc1-1cb6-4f43-9811-38f54388c45b",
   "metadata": {},
   "outputs": [],
   "source": []
  }
 ],
 "metadata": {
  "kernelspec": {
   "display_name": "Python [conda env:base] *",
   "language": "python",
   "name": "conda-base-py"
  },
  "language_info": {
   "codemirror_mode": {
    "name": "ipython",
    "version": 3
   },
   "file_extension": ".py",
   "mimetype": "text/x-python",
   "name": "python",
   "nbconvert_exporter": "python",
   "pygments_lexer": "ipython3",
   "version": "3.12.7"
  }
 },
 "nbformat": 4,
 "nbformat_minor": 5
}
