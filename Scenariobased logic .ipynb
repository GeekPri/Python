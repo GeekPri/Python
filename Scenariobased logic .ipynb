{
 "cells": [
  {
   "cell_type": "code",
   "execution_count": 3,
   "id": "738b1bcc-dc1f-4c89-9778-0c0e02cc8578",
   "metadata": {},
   "outputs": [
    {
     "name": "stdout",
     "output_type": "stream",
     "text": [
      "3\n"
     ]
    }
   ],
   "source": [
    "print(1+2)"
   ]
  },
  {
   "cell_type": "code",
   "execution_count": 3,
   "id": "20856807-571e-424a-9f15-2947a1fe1d3a",
   "metadata": {},
   "outputs": [
    {
     "name": "stdout",
     "output_type": "stream",
     "text": [
      "p: priya\n"
     ]
    }
   ],
   "source": [
    " p = \"priya\"\n",
    "print (\"p:\", p)"
   ]
  },
  {
   "cell_type": "code",
   "execution_count": 7,
   "id": "bed99061-504f-43e2-8f93-ee9827465337",
   "metadata": {},
   "outputs": [
    {
     "name": "stdout",
     "output_type": "stream",
     "text": [
      "0\n",
      "1\n",
      "2\n",
      "3\n",
      "4\n"
     ]
    }
   ],
   "source": [
    "age = 40\n",
    "for i in range(5):\n",
    "    print(i)\n",
    "\n",
    "while age < 40:\n",
    "    age += 1"
   ]
  },
  {
   "cell_type": "code",
   "execution_count": 13,
   "id": "c6c89e4c-6f4d-4ffd-92da-c7a2343d3e58",
   "metadata": {},
   "outputs": [
    {
     "name": "stdout",
     "output_type": "stream",
     "text": [
      "Hi, I'm Priya\n"
     ]
    }
   ],
   "source": [
    "class Person:\n",
    "    def __init__(self, name, age):\n",
    "        self.name = name\n",
    "        self.age = age\n",
    "\n",
    "    def greet(self):\n",
    "        return f\"Hi, I'm {self.name}\"\n",
    "\n",
    "p = Person(\"Priya\", 35)\n",
    "print(p.greet())\n"
   ]
  },
  {
   "cell_type": "code",
   "execution_count": 15,
   "id": "f44cf559-7974-4872-9902-d13c50233de3",
   "metadata": {},
   "outputs": [
    {
     "name": "stdin",
     "output_type": "stream",
     "text": [
      "Enter your age:  1\n",
      "Enter your height in meters:  3\n"
     ]
    }
   ],
   "source": [
    "# 1 Scenario: A system checks if a user is eligible to vote based on their\n",
    "#age.\n",
    "#Write logic to ask the user for their age and determine if they are eligible\n",
    "#to vote based on whether they are 18 or older.\n",
    "age = int(input(\"Enter your age: \"))\n",
    "height = float(input(\"Enter your height in meters: \"))\n"
   ]
  },
  {
   "cell_type": "code",
   "execution_count": 17,
   "id": "16cbc8e3-784d-427d-abdf-027625f18b62",
   "metadata": {},
   "outputs": [
    {
     "data": {
      "text/plain": [
       "4"
      ]
     },
     "execution_count": 17,
     "metadata": {},
     "output_type": "execute_result"
    }
   ],
   "source": [
    "len([1, 2, 3, 4]) "
   ]
  },
  {
   "cell_type": "code",
   "execution_count": 19,
   "id": "1095358b-4419-43e0-9d35-8866f81ad482",
   "metadata": {},
   "outputs": [
    {
     "name": "stdout",
     "output_type": "stream",
     "text": [
      "abcabcabc\n"
     ]
    }
   ],
   "source": [
    " print(3 * \"abc\")"
   ]
  },
  {
   "cell_type": "code",
   "execution_count": 21,
   "id": "141215ce-27e9-4d13-95b4-c8b58c3ffba0",
   "metadata": {},
   "outputs": [
    {
     "data": {
      "text/plain": [
       "False"
      ]
     },
     "execution_count": 21,
     "metadata": {},
     "output_type": "execute_result"
    }
   ],
   "source": [
    "bool([]) "
   ]
  },
  {
   "cell_type": "code",
   "execution_count": 23,
   "id": "9d1d9676-e57d-4db8-8669-0837d972fcc6",
   "metadata": {},
   "outputs": [
    {
     "data": {
      "text/plain": [
       "[0, 1, 2]"
      ]
     },
     "execution_count": 23,
     "metadata": {},
     "output_type": "execute_result"
    }
   ],
   "source": [
    "list(range(3))"
   ]
  },
  {
   "cell_type": "code",
   "execution_count": 43,
   "id": "8a60318b-4e58-4d8c-9e4d-6cddb81ff8e9",
   "metadata": {},
   "outputs": [
    {
     "name": "stdin",
     "output_type": "stream",
     "text": [
      "Enter the User age: 18\n"
     ]
    },
    {
     "name": "stdout",
     "output_type": "stream",
     "text": [
      "User is eligible to vote\n"
     ]
    }
   ],
   "source": [
    "#1 Scenario: A system checks if a user is eligible to vote based on their\n",
    "#age.\n",
    "#Write logic to ask the user for their age and determine if they are eligible\n",
    "#to vote based on whether they are 18 or older.\n",
    "age = int(input('Enter the User age:')) \n",
    "if (age >= 18):\n",
    " print ('User is eligible to vote')\n",
    "else:\n",
    " print('User should be atleast 18 years of age')\n",
    "\n",
    "\n"
   ]
  },
  {
   "cell_type": "code",
   "execution_count": 64,
   "id": "fae28f2c-ee1c-4d73-b77f-2f4fbb67201e",
   "metadata": {},
   "outputs": [
    {
     "name": "stdout",
     "output_type": "stream",
     "text": [
      "gretest value:  20\n"
     ]
    }
   ],
   "source": [
    "# 2. Scenario: A program processes a list of numbers and needs to find the\n",
    "#largest value.\n",
    "#Write logic to identify and return the largest number from a given list.\n",
    "aList = [10,20]\n",
    "bigValue = aList[0]\n",
    "for i in range(1, len(aList), 1):\n",
    " if aList[i] > aList[i-1]:\n",
    "  bigValue = aList[i] \n",
    "print('gretest value: ', bigValue)\n",
    "     \n"
   ]
  },
  {
   "cell_type": "code",
   "execution_count": 74,
   "id": "bb7b20a8-bac2-48a3-b0b1-17d6df0a4b89",
   "metadata": {},
   "outputs": [
    {
     "name": "stdin",
     "output_type": "stream",
     "text": [
      "Enter the Employee Salary in $: 60000\n"
     ]
    },
    {
     "name": "stdout",
     "output_type": "stream",
     "text": [
      "Bonus amount:  600.0\n"
     ]
    }
   ],
   "source": [
    "# 3. Scenario: A company provides employees with a 10% bonus if their\n",
    "#salary exceeds $50,000.\n",
    "# Write logic to determine the bonus amount based on the given salary.\n",
    "\n",
    "salary= int(input('Enter the Employee Salary in $:')) \n",
    "if (salary > 5000):\n",
    " print ('Bonus amount: ',  ( salary *0.01))\n",
    "else:\n",
    " print('No Bonus')\n",
    "\n"
   ]
  },
  {
   "cell_type": "code",
   "execution_count": 128,
   "id": "71431c1e-cc12-472f-89af-ec4504d8ecce",
   "metadata": {},
   "outputs": [
    {
     "name": "stdin",
     "output_type": "stream",
     "text": [
      "Enter the  Number to find Odd or Even: 0\n"
     ]
    }
   ],
   "source": [
    "## 4. Scenario: A program evaluates a number to determine if it is even or\n",
    "#odd.\n",
    "#Write logic to check whether a given number is even or odd.\n",
    "number = int(input('Enter the  Number to find Odd or Even:')) \n",
    "if ( number > 0 and (number % 2 ) == 0):\n",
    " print ('Even')\n",
    "elif number > 0 :\n",
    " print('Odd')\n",
    "\n",
    "\n"
   ]
  },
  {
   "cell_type": "code",
   "execution_count": 190,
   "id": "4b3b0414-e660-4ee6-95ec-5b52a7bfd9d0",
   "metadata": {},
   "outputs": [
    {
     "name": "stdin",
     "output_type": "stream",
     "text": [
      "Enter a work/sentense to reverse: 908 hi 065\n"
     ]
    },
    {
     "name": "stdout",
     "output_type": "stream",
     "text": [
      "FinalReversedString:  560 ih 809\n"
     ]
    }
   ],
   "source": [
    "#5 Scenario: A text-processing tool reverses a given word or sentence for\n",
    "#formatting purposes.\n",
    "#Write logic to take a word or sentence as input and produce its reversed\n",
    "#version.\n",
    "\n",
    "inputString =  (input('Enter a work/sentense to reverse:'))\n",
    "reversedString = ''\n",
    "for i in range(len(inputString)-1, -1, -1):\n",
    "    reversedString = reversedString+(inputString[i])\n",
    "print('FinalReversedString: ', reversedString)\n",
    "\n",
    "                \n",
    "                "
   ]
  },
  {
   "cell_type": "code",
   "execution_count": 224,
   "id": "9471bd9d-429c-46a2-a590-8ae6293a9b9c",
   "metadata": {},
   "outputs": [
    {
     "name": "stdin",
     "output_type": "stream",
     "text": [
      "Enter the Student subject Score: 80\n"
     ]
    },
    {
     "name": "stdout",
     "output_type": "stream",
     "text": [
      "PASS\n"
     ]
    }
   ],
   "source": [
    "#6. Scenario: A grading system determines whether a student has passed\n",
    "#or failed based on their score.\n",
    "#Write logic to check if a student has passed a subject by scoring at least\n",
    "#40 marks.\n",
    "score= int(input('Enter the Student subject Score:')) \n",
    "if (score >=40):\n",
    " print ('PASS')\n",
    "else:\n",
    " print('FAIL')"
   ]
  },
  {
   "cell_type": "code",
   "execution_count": 222,
   "id": "789871bf-0f3b-46f7-97c5-cf3a57ba8456",
   "metadata": {},
   "outputs": [
    {
     "name": "stdin",
     "output_type": "stream",
     "text": [
      "Enter the Total purchase amount in $: 100.01\n"
     ]
    },
    {
     "name": "stdout",
     "output_type": "stream",
     "text": [
      "Final total amount to be paid: $ 80.01\n"
     ]
    }
   ],
   "source": [
    "#7. Scenario: A retail store offers a 20% discount if a customer’s total order\n",
    "#exceeds $100. Write logic to calculate the final amount to be paid after\n",
    "#applying the discount.\n",
    "totalAmount= float(input('Enter the Total purchase amount in $:')) \n",
    "if totalAmount > 100:\n",
    "    discounted = totalAmount * 0.8  # Apply 20% discount\n",
    "    print(\"Final total amount to be paid: $ {:.2f}\".format(discounted))\n",
    "else:\n",
    "    print(\"Final total amount to be paid: $ {:.2f}\".format(totalAmount))\n"
   ]
  },
  {
   "cell_type": "code",
   "execution_count": 230,
   "id": "14733bff-1e62-4824-9d0a-07b4ea8f0dfb",
   "metadata": {},
   "outputs": [
    {
     "name": "stdin",
     "output_type": "stream",
     "text": [
      "Enter the Total Withdrawl amount in $: 120\n",
      "Enter the Account Balance amount in $: 200\n"
     ]
    },
    {
     "name": "stdout",
     "output_type": "stream",
     "text": [
      "Withdrawl is allowed\n",
      "Final accountBalance: $ 80.00\n"
     ]
    }
   ],
   "source": [
    "#8. Scenario: A banking system processes withdrawal requests and ensures\n",
    "#the user has enough balance.\n",
    "\n",
    "#Write logic to check if a user has enough balance before allowing a\n",
    "#withdrawal and update the remaining balance accordingly.\n",
    "\n",
    "withdrawlAmountRequest= float(input('Enter the Total Withdrawl amount in $:')) \n",
    "accountBalance = float(input('Enter the Account Balance amount in $:')) \n",
    "if withdrawlAmountRequest > 0 and accountBalance > withdrawlAmountRequest:\n",
    "    print('Withdrawl is allowed')\n",
    "    accountBalance = accountBalance - withdrawlAmountRequest   \n",
    "    print(\"Final accountBalance: $ {:.2f}\".format(accountBalance))\n",
    "else:\n",
    "    print('Withdrawl NOT allowed')  \n",
    "    print(\"AccountBalance: $ {:.2f}\".format(accountBalance))"
   ]
  },
  {
   "cell_type": "code",
   "execution_count": 262,
   "id": "218bf090-f90a-4e29-9a1e-9908e5f1bdd8",
   "metadata": {},
   "outputs": [
    {
     "name": "stdin",
     "output_type": "stream",
     "text": [
      "Enter the year to check if it is a leap year or not:  2100\n"
     ]
    },
    {
     "name": "stdout",
     "output_type": "stream",
     "text": [
      "2100 is not a Leap Year\n"
     ]
    }
   ],
   "source": [
    "# 9 Scenario: A calendar system verifies whether a given year is a leap year\n",
    "#based on standard leap year rules.\n",
    "#Write logic to determine whether a given year is a leap year.\n",
    "inputYear = int(input(\"Enter the year to check if it is a leap year or not: \"))\n",
    "if (inputYear%4 == 0 and inputYear%100 != 0) or  inputYear%400 ==0:\n",
    "  print(str(inputYear) +' is   a Leap year')\n",
    "else: \n",
    " print(str(inputYear) + ' is not a Leap Year')"
   ]
  },
  {
   "cell_type": "code",
   "execution_count": 321,
   "id": "11b23aa7-4e35-49d8-a78e-649ca8c32602",
   "metadata": {},
   "outputs": [
    {
     "name": "stdout",
     "output_type": "stream",
     "text": [
      "numberList:  012345678910\n",
      "Input list: 012345678910\n",
      "Even list: 246810\n",
      "Odd list: 013579\n"
     ]
    }
   ],
   "source": [
    "#  10. Scenario: A program filters out only even numbers from a given list.\n",
    "# Write logic to extract and return only the even numbers from a list.\n",
    "\n",
    "numberList = [0, 1, 2, 3, 4, 5, 6,7,8,9,10]\n",
    "toPrint = ''\n",
    "oddList = ''\n",
    "evenList = ''  \n",
    "# Fixed for loop syntax\n",
    "for i in range(0,len(numberList), 1):    \n",
    "    toPrint = toPrint + str(numberList[i])\n",
    "    \n",
    "    # Fixed indentation and parentheses\n",
    "    if(numberList[i] != 0 and numberList[i] % 2 == 0):\n",
    "        evenList = evenList + str(numberList[i])    \n",
    "    else:\n",
    "        oddList = oddList + str(numberList[i])   \n",
    "    \n",
    "print(\"numberList: \", toPrint)\n",
    "print('Input list:', toPrint)\n",
    "print('Even list:', evenList)\n",
    "print('Odd list:', oddList)\n"
   ]
  },
  {
   "cell_type": "code",
   "execution_count": null,
   "id": "6338cc61-8754-46fc-8f79-b198002f3010",
   "metadata": {},
   "outputs": [],
   "source": [
    "4"
   ]
  }
 ],
 "metadata": {
  "kernelspec": {
   "display_name": "Python [conda env:aimlVirtualEnvironment]",
   "language": "python",
   "name": "conda-env-aimlVirtualEnvironment-py"
  },
  "language_info": {
   "codemirror_mode": {
    "name": "ipython",
    "version": 3
   },
   "file_extension": ".py",
   "mimetype": "text/x-python",
   "name": "python",
   "nbconvert_exporter": "python",
   "pygments_lexer": "ipython3",
   "version": "3.7.1"
  }
 },
 "nbformat": 4,
 "nbformat_minor": 5
}
