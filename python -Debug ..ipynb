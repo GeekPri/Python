{
 "cells": [
  {
   "cell_type": "code",
   "execution_count": 99,
   "id": "8e02775a",
   "metadata": {},
   "outputs": [
    {
     "name": "stdout",
     "output_type": "stream",
     "text": [
      "0\n",
      "1\n",
      "2\n",
      "3\n",
      "4\n"
     ]
    }
   ],
   "source": [
    "#1.Find the error in the following Python code:\n",
    "\n",
    "for i in range(5):\n",
    "    print(i)\n",
    "    "
   ]
  },
  {
   "cell_type": "code",
   "execution_count": 105,
   "id": "df3cee51",
   "metadata": {},
   "outputs": [
    {
     "name": "stdout",
     "output_type": "stream",
     "text": [
      "15\n"
     ]
    }
   ],
   "source": [
    "#2.What will be the output of this code?\n",
    "\n",
    "a = 10\n",
    "b = \"5\"\n",
    "print(a + int (b))\n",
    "#Error cannot add int and str"
   ]
  },
  {
   "cell_type": "code",
   "execution_count": 19,
   "id": "15c2e7b2",
   "metadata": {},
   "outputs": [],
   "source": [
    "#3.What is the issue in this Python snippet?\n",
    "\n",
    "def add_numbers(a, b):\n",
    "    return a + b\n",
    "#Indentation and function def statement ending with :"
   ]
  },
  {
   "cell_type": "code",
   "execution_count": 107,
   "id": "2f8e5efd",
   "metadata": {},
   "outputs": [
    {
     "name": "stdout",
     "output_type": "stream",
     "text": [
      "4\n"
     ]
    }
   ],
   "source": [
    "\n",
    "#4.Identify the bug in the following Python code:\n",
    "\n",
    "numbers = [1, 2, 3, 4]\n",
    "print(numbers[3])\n",
    "# error saying list has only 4 elements and [4] is looking for 5th position as list item starts with 0th position"
   ]
  },
  {
   "cell_type": "code",
   "execution_count": 109,
   "id": "bc0080c1",
   "metadata": {},
   "outputs": [
    {
     "name": "stdout",
     "output_type": "stream",
     "text": [
      "Hello, World!\n"
     ]
    }
   ],
   "source": [
    "#5.Find the error in the following Python code:\n",
    "print ('Hello, World!')\n",
    "# print stmt needs a open and close parantheses"
   ]
  },
  {
   "cell_type": "code",
   "execution_count": 111,
   "id": "5b449ecb",
   "metadata": {},
   "outputs": [],
   "source": [
    "#6.Find the error in the following Python code:\n",
    "x = 5 / 1\n",
    "# number cannot be divided by 0\n"
   ]
  },
  {
   "cell_type": "code",
   "execution_count": 117,
   "id": "79260565",
   "metadata": {},
   "outputs": [
    {
     "name": "stdout",
     "output_type": "stream",
     "text": [
      "Name: priya, Age: 25\n"
     ]
    }
   ],
   "source": [
    "#7.Find the error in the following Python code:name = \"Alice\"\n",
    "age = 25\n",
    "name = 'priya' \n",
    "print(\"Name: \" + name + \", Age: \" + str(age))\n",
    "# name is not defined in code \n"
   ]
  },
  {
   "cell_type": "code",
   "execution_count": 83,
   "id": "3e4b6f3b",
   "metadata": {},
   "outputs": [],
   "source": [
    "#8.Find the error\n",
    "for i in range(1, 10, -1):\n",
    "    print(i)\n",
    "# no printing beause the step -1 makes the start 1 to decrement but the stop value is 10 higher than the start 1\n"
   ]
  },
  {
   "cell_type": "code",
   "execution_count": 89,
   "id": "95976c4d",
   "metadata": {},
   "outputs": [
    {
     "name": "stdout",
     "output_type": "stream",
     "text": [
      "x is 5\n"
     ]
    }
   ],
   "source": [
    "#9. Find the error in the following Python code:\n",
    "x = 10\n",
    "if x == 10:\n",
    "    print(\"x is 5\")\n",
    "#x=5 makes it as assignment value to x but while checking condition need to use ==\n"
   ]
  },
  {
   "cell_type": "code",
   "execution_count": 93,
   "id": "317eca50",
   "metadata": {},
   "outputs": [],
   "source": [
    "#10. Identify the error in the following function definition:\n",
    "\n",
    "def greet(name):\n",
    "    print(\"Hello,\"+name)\n",
    "# the definition needed to end with :\n"
   ]
  },
  {
   "cell_type": "code",
   "execution_count": 95,
   "id": "2df401f9-3fda-4f5f-a613-2c16c6313067",
   "metadata": {},
   "outputs": [
    {
     "name": "stdout",
     "output_type": "stream",
     "text": [
      "Hello,Arjun\n"
     ]
    }
   ],
   "source": [
    "greet(\"Arjun\")"
   ]
  },
  {
   "cell_type": "code",
   "execution_count": null,
   "id": "6847bec3-f79b-4190-8c09-fb848430578f",
   "metadata": {},
   "outputs": [],
   "source": []
  }
 ],
 "metadata": {
  "kernelspec": {
   "display_name": "Python [conda env:base] *",
   "language": "python",
   "name": "conda-base-py"
  },
  "language_info": {
   "codemirror_mode": {
    "name": "ipython",
    "version": 3
   },
   "file_extension": ".py",
   "mimetype": "text/x-python",
   "name": "python",
   "nbconvert_exporter": "python",
   "pygments_lexer": "ipython3",
   "version": "3.12.7"
  }
 },
 "nbformat": 4,
 "nbformat_minor": 5
}
